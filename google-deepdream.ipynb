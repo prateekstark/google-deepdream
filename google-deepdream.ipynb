{
 "cells": [
  {
   "cell_type": "code",
   "execution_count": 57,
   "metadata": {},
   "outputs": [],
   "source": [
    "from keras.preprocessing.image import load_img, save_img, img_to_array\n",
    "import numpy as np\n",
    "import scipy\n",
    "from keras.applications import inception_v3\n",
    "from keras import backend as K\n",
    "from PIL import Image"
   ]
  },
  {
   "cell_type": "code",
   "execution_count": 58,
   "metadata": {},
   "outputs": [],
   "source": [
    "base_image_path = 'a1.jpeg'\n",
    "result_prefix = 'results/dream'"
   ]
  },
  {
   "cell_type": "code",
   "execution_count": 59,
   "metadata": {},
   "outputs": [],
   "source": [
    "def preprocess(fp):\n",
    "    img = Image.open(fp)\n",
    "    img = np.array(img)\n",
    "    img = np.array([img])\n",
    "    img = inception_v3.preprocess_input(img)\n",
    "    return img"
   ]
  },
  {
   "cell_type": "code",
   "execution_count": 60,
   "metadata": {},
   "outputs": [
    {
     "data": {
      "text/plain": [
       "(1, 1024, 768, 3)"
      ]
     },
     "execution_count": 60,
     "metadata": {},
     "output_type": "execute_result"
    }
   ],
   "source": [
    "preprocess('a.jpeg').shape"
   ]
  },
  {
   "cell_type": "code",
   "execution_count": 61,
   "metadata": {},
   "outputs": [],
   "source": [
    "def deprocess(x):\n",
    "    if(K.image_data_format() == 'channels_first'):\n",
    "        x = x.reshape((3, x.shape[2], x.shape[3]))\n",
    "        x = x.transpose((1, 2, 0))\n",
    "    else:\n",
    "        x = x.reshape(x.shape[1], x.shape[2], 3)\n",
    "    x /= 2.\n",
    "    x += 0.5\n",
    "    x *= 255.\n",
    "    x = np.clip(x, 0, 255).astype('uint8')\n",
    "    return x"
   ]
  },
  {
   "cell_type": "code",
   "execution_count": 62,
   "metadata": {},
   "outputs": [],
   "source": [
    "K.set_learning_phase(0)"
   ]
  },
  {
   "cell_type": "code",
   "execution_count": 63,
   "metadata": {},
   "outputs": [
    {
     "name": "stdout",
     "output_type": "stream",
     "text": [
      "Model loaded.\n"
     ]
    }
   ],
   "source": [
    "from keras.models import load_model\n",
    "model = inception_v3.InceptionV3(weights='imagenet', include_top=False)\n",
    "dream = model.input\n",
    "print('Model loaded.')"
   ]
  },
  {
   "cell_type": "code",
   "execution_count": 64,
   "metadata": {},
   "outputs": [],
   "source": [
    "# Get the symbolic outputs of each \"key\" layer (we gave them unique names).\n",
    "layer_dict = dict([(layer.name, layer) for layer in model.layers])"
   ]
  },
  {
   "cell_type": "code",
   "execution_count": 65,
   "metadata": {},
   "outputs": [],
   "source": [
    "settings = {\n",
    "    'features': {\n",
    "        'mixed2': 0.2,\n",
    "        'mixed3': 0.5,\n",
    "        'mixed4': 2.,\n",
    "        'mixed5': 1.5,\n",
    "    },\n",
    "}"
   ]
  },
  {
   "cell_type": "code",
   "execution_count": 66,
   "metadata": {},
   "outputs": [],
   "source": [
    "loss = K.variable(0)\n",
    "for layer_name in settings['features']:\n",
    "    if(layer_name not in layer_dict):\n",
    "        raise ValueError('Layer' + layer_name + ' not found in model.')\n",
    "    coeff = settings['features'][layer_name]\n",
    "    x = layer_dict[layer_name].output\n",
    "    \n",
    "    scaling = K.prod(K.cast(K.shape(x), 'float32'))\n",
    "    if(K.image_data_format() == 'channels_first'):\n",
    "        loss = loss + coeff * K.sum(K.square(x[:, :, 2:, -2, 2:, -2])) / scaling\n",
    "    else:\n",
    "        loss = loss + coeff * K.sum(K.square(x[:, 2: -2, 2: -2, :])) / scaling\n",
    "    \n",
    "grads = K.gradients(loss, dream)[0]\n",
    "grads /= K.maximum(K.mean(K.abs(grads)), K.epsilon())\n",
    "outputs = [loss, grads]\n",
    "fetch_loss_and_grads = K.function([dream], outputs)"
   ]
  },
  {
   "cell_type": "code",
   "execution_count": 67,
   "metadata": {},
   "outputs": [],
   "source": [
    "def eval_loss_and_grads(x):\n",
    "    out = fetch_loss_and_grads([x])\n",
    "    return out[0], out[1]"
   ]
  },
  {
   "cell_type": "code",
   "execution_count": 68,
   "metadata": {},
   "outputs": [],
   "source": [
    "def resize(img, size):\n",
    "    img = np.copy(img)\n",
    "    if(K.image_data_format() == 'channels_first'):\n",
    "        factors = (1, 1, float(size[0])/img.shape[2], float(size[1])/img.shape[3])\n",
    "    else:\n",
    "        factors = (1, float(size[0])/img.shape[1], float(size[1])/img.shape[2], 1)\n",
    "    return scipy.ndimage.zoom(img, factors, order=1)"
   ]
  },
  {
   "cell_type": "code",
   "execution_count": 69,
   "metadata": {},
   "outputs": [],
   "source": [
    "def gradient_ascent(x, iterations, step, max_loss=None):\n",
    "    for i in range(iterations):\n",
    "        loss_value, grad_values = eval_loss_and_grads(x)\n",
    "        if(max_loss is not None and loss_value > max_loss):\n",
    "            break\n",
    "        print('..Loss value at', i, ':', loss_value)\n",
    "        x += step * grad_values\n",
    "    return x"
   ]
  },
  {
   "cell_type": "code",
   "execution_count": 70,
   "metadata": {},
   "outputs": [
    {
     "name": "stdout",
     "output_type": "stream",
     "text": [
      "Processing image shape (31, 55)\n",
      "..Loss value at 0 : nan\n",
      "..Loss value at 1 : nan\n",
      "..Loss value at 2 : nan\n",
      "..Loss value at 3 : nan\n",
      "..Loss value at 4 : nan\n",
      "..Loss value at 5 : nan\n",
      "..Loss value at 6 : nan\n",
      "..Loss value at 7 : nan\n",
      "..Loss value at 8 : nan\n",
      "..Loss value at 9 : nan\n",
      "..Loss value at 10 : nan\n",
      "..Loss value at 11 : nan\n",
      "..Loss value at 12 : nan\n",
      "..Loss value at 13 : nan\n",
      "..Loss value at 14 : nan\n",
      "..Loss value at 15 : nan\n",
      "..Loss value at 16 : nan\n",
      "..Loss value at 17 : nan\n",
      "..Loss value at 18 : nan\n",
      "..Loss value at 19 : nan\n",
      "Processing image shape (93, 166)\n",
      "..Loss value at 0 : 0.042536262\n",
      "..Loss value at 1 : 0.05151155\n",
      "..Loss value at 2 : 0.06475978\n",
      "..Loss value at 3 : 0.07899274\n",
      "..Loss value at 4 : 0.09325717\n",
      "..Loss value at 5 : 0.10554422\n",
      "..Loss value at 6 : 0.11799246\n",
      "..Loss value at 7 : 0.1290429\n",
      "..Loss value at 8 : 0.13989295\n",
      "..Loss value at 9 : 0.15078075\n",
      "..Loss value at 10 : 0.16047138\n",
      "..Loss value at 11 : 0.17019726\n",
      "..Loss value at 12 : 0.18052514\n",
      "..Loss value at 13 : 0.19011244\n",
      "..Loss value at 14 : 0.1984448\n",
      "..Loss value at 15 : 0.20647915\n",
      "..Loss value at 16 : 0.21515384\n",
      "..Loss value at 17 : 0.22386119\n",
      "..Loss value at 18 : 0.23261555\n",
      "..Loss value at 19 : 0.24023075\n",
      "Processing image shape (281, 500)\n",
      "..Loss value at 0 : 0.7478176\n",
      "..Loss value at 1 : 0.9005364\n",
      "..Loss value at 2 : 1.1458889\n",
      "..Loss value at 3 : 1.5138772\n",
      "..Loss value at 4 : 1.9220085\n",
      "..Loss value at 5 : 2.4411955\n",
      "..Loss value at 6 : 3.077797\n",
      "..Loss value at 7 : 3.7881126\n",
      "..Loss value at 8 : 5.0668983\n",
      "..Loss value at 9 : 6.614645\n",
      "..Loss value at 10 : 9.511253\n"
     ]
    }
   ],
   "source": [
    "step = 0.01\n",
    "num_octave = 3\n",
    "octave_scale = 3\n",
    "iterations = 20\n",
    "max_loss = 10\n",
    "img = preprocess(base_image_path)\n",
    "if(K.image_data_format() == 'channels_first'):\n",
    "    original_shape = img.shape[2:]\n",
    "else:\n",
    "    original_shape = img.shape[1:3]\n",
    "successive_shapes = [original_shape]\n",
    "for i in range(1, num_octave):\n",
    "    shape = tuple([int(dim/(octave_scale**i)) for dim in original_shape])\n",
    "    successive_shapes.append(shape)\n",
    "successive_shapes = successive_shapes[::-1]\n",
    "original_img = np.copy(img)\n",
    "shrunk_original_img = resize(img, successive_shapes[0])\n",
    "for shape in successive_shapes:\n",
    "    print('Processing image shape', shape)\n",
    "    img = resize(img, shape)\n",
    "    img = gradient_ascent(img, iterations=iterations, step=step, max_loss=max_loss)\n",
    "    upscaled_shrunk_original_img = resize(original_img, shape)\n",
    "    same_size_original = resize(original_img, shape)\n",
    "    lost_detail = same_size_original - upscaled_shrunk_original_img\n",
    "    img += lost_detail\n",
    "    shrunk_original_img = resize(original_img, shape)\n",
    "\n",
    "save_img(result_prefix + '.png', deprocess(np.copy(img)))"
   ]
  },
  {
   "cell_type": "code",
   "execution_count": null,
   "metadata": {},
   "outputs": [],
   "source": []
  },
  {
   "cell_type": "code",
   "execution_count": null,
   "metadata": {},
   "outputs": [],
   "source": []
  },
  {
   "cell_type": "code",
   "execution_count": null,
   "metadata": {},
   "outputs": [],
   "source": []
  },
  {
   "cell_type": "code",
   "execution_count": null,
   "metadata": {},
   "outputs": [],
   "source": []
  },
  {
   "cell_type": "code",
   "execution_count": null,
   "metadata": {},
   "outputs": [],
   "source": []
  },
  {
   "cell_type": "code",
   "execution_count": null,
   "metadata": {},
   "outputs": [],
   "source": []
  },
  {
   "cell_type": "code",
   "execution_count": null,
   "metadata": {},
   "outputs": [],
   "source": []
  },
  {
   "cell_type": "code",
   "execution_count": null,
   "metadata": {},
   "outputs": [],
   "source": []
  },
  {
   "cell_type": "code",
   "execution_count": null,
   "metadata": {},
   "outputs": [],
   "source": []
  }
 ],
 "metadata": {
  "kernelspec": {
   "display_name": "Python 3",
   "language": "python",
   "name": "python3"
  },
  "language_info": {
   "codemirror_mode": {
    "name": "ipython",
    "version": 3
   },
   "file_extension": ".py",
   "mimetype": "text/x-python",
   "name": "python",
   "nbconvert_exporter": "python",
   "pygments_lexer": "ipython3",
   "version": "3.5.2"
  }
 },
 "nbformat": 4,
 "nbformat_minor": 2
}
